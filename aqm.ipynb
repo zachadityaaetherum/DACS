{
 "cells": [
  {
   "cell_type": "markdown",
   "metadata": {},
   "source": [
    "# Asset Quality Matrix (AQM)"
   ]
  },
  {
   "cell_type": "code",
   "execution_count": 91,
   "metadata": {},
   "outputs": [],
   "source": [
    "import numpy as np\n",
    "import pandas as pd\n",
    "import yfinance as yf"
   ]
  },
  {
   "cell_type": "markdown",
   "metadata": {},
   "source": [
    "Drawing Inspiration from the Beta Ratio and how the FDIC measures Asset quality, I believe that the most suitable way to measure asset quality is to evaluate the deviations of returns of a particular asset against a market index. In this notebook, I use the Treasury Inflation Protected Securities (TIPS) as the market index which is essentially treasury bonds adjusted for inflation."
   ]
  },
  {
   "cell_type": "markdown",
   "metadata": {},
   "source": [
    "We measure the asset quality of the asset with the following equation:\n"
   ]
  },
  {
   "cell_type": "markdown",
   "metadata": {},
   "source": [
    "#### $\\text{Asset Quality =} \\frac{\\text{Covariance(Returns(Asset), Returns(Market))}}{\\text{Variance(Returns(Market))}}$"
   ]
  },
  {
   "cell_type": "code",
   "execution_count": 92,
   "metadata": {},
   "outputs": [
    {
     "data": {
      "text/html": [
       "<div>\n",
       "<style scoped>\n",
       "    .dataframe tbody tr th:only-of-type {\n",
       "        vertical-align: middle;\n",
       "    }\n",
       "\n",
       "    .dataframe tbody tr th {\n",
       "        vertical-align: top;\n",
       "    }\n",
       "\n",
       "    .dataframe thead th {\n",
       "        text-align: right;\n",
       "    }\n",
       "</style>\n",
       "<table border=\"1\" class=\"dataframe\">\n",
       "  <thead>\n",
       "    <tr style=\"text-align: right;\">\n",
       "      <th></th>\n",
       "      <th>Close</th>\n",
       "      <th>returns</th>\n",
       "    </tr>\n",
       "    <tr>\n",
       "      <th>Date</th>\n",
       "      <th></th>\n",
       "      <th></th>\n",
       "    </tr>\n",
       "  </thead>\n",
       "  <tbody>\n",
       "    <tr>\n",
       "      <th>2020-05-27</th>\n",
       "      <td>101.667236</td>\n",
       "      <td>0.000990</td>\n",
       "    </tr>\n",
       "    <tr>\n",
       "      <th>2020-05-28</th>\n",
       "      <td>101.985550</td>\n",
       "      <td>0.003131</td>\n",
       "    </tr>\n",
       "    <tr>\n",
       "      <th>2020-05-29</th>\n",
       "      <td>102.027458</td>\n",
       "      <td>0.000411</td>\n",
       "    </tr>\n",
       "    <tr>\n",
       "      <th>2020-06-01</th>\n",
       "      <td>102.153107</td>\n",
       "      <td>0.001232</td>\n",
       "    </tr>\n",
       "    <tr>\n",
       "      <th>2020-06-02</th>\n",
       "      <td>101.926903</td>\n",
       "      <td>-0.002214</td>\n",
       "    </tr>\n",
       "    <tr>\n",
       "      <th>...</th>\n",
       "      <td>...</td>\n",
       "      <td>...</td>\n",
       "    </tr>\n",
       "    <tr>\n",
       "      <th>2025-05-16</th>\n",
       "      <td>108.879997</td>\n",
       "      <td>0.001748</td>\n",
       "    </tr>\n",
       "    <tr>\n",
       "      <th>2025-05-19</th>\n",
       "      <td>108.889999</td>\n",
       "      <td>0.000092</td>\n",
       "    </tr>\n",
       "    <tr>\n",
       "      <th>2025-05-20</th>\n",
       "      <td>108.730003</td>\n",
       "      <td>-0.001469</td>\n",
       "    </tr>\n",
       "    <tr>\n",
       "      <th>2025-05-21</th>\n",
       "      <td>108.139999</td>\n",
       "      <td>-0.005426</td>\n",
       "    </tr>\n",
       "    <tr>\n",
       "      <th>2025-05-22</th>\n",
       "      <td>108.459999</td>\n",
       "      <td>0.002959</td>\n",
       "    </tr>\n",
       "  </tbody>\n",
       "</table>\n",
       "<p>1255 rows × 2 columns</p>\n",
       "</div>"
      ],
      "text/plain": [
       "                 Close   returns\n",
       "Date                            \n",
       "2020-05-27  101.667236  0.000990\n",
       "2020-05-28  101.985550  0.003131\n",
       "2020-05-29  102.027458  0.000411\n",
       "2020-06-01  102.153107  0.001232\n",
       "2020-06-02  101.926903 -0.002214\n",
       "...                ...       ...\n",
       "2025-05-16  108.879997  0.001748\n",
       "2025-05-19  108.889999  0.000092\n",
       "2025-05-20  108.730003 -0.001469\n",
       "2025-05-21  108.139999 -0.005426\n",
       "2025-05-22  108.459999  0.002959\n",
       "\n",
       "[1255 rows x 2 columns]"
      ]
     },
     "execution_count": 92,
     "metadata": {},
     "output_type": "execute_result"
    }
   ],
   "source": [
    "tip = yf.Ticker(\"TIP\")\n",
    "tip_data = tip.history(period=\"5y\")  \n",
    "tip_data = tip_data[['Close']]\n",
    "tip_data.index = tip_data.index.tz_localize(None)\n",
    "tip_data['returns'] = tip_data['Close'].pct_change().dropna()\n",
    "tip_data = tip_data.iloc[1:] \n",
    "\n",
    "market_var = np.var(tip_data['returns'])\n",
    "\n",
    "tip_data"
   ]
  },
  {
   "cell_type": "markdown",
   "metadata": {},
   "source": [
    "### Below is the calculation for blue-chip equities listed on the S&P 500"
   ]
  },
  {
   "cell_type": "code",
   "execution_count": 93,
   "metadata": {},
   "outputs": [
    {
     "data": {
      "text/html": [
       "<div>\n",
       "<style scoped>\n",
       "    .dataframe tbody tr th:only-of-type {\n",
       "        vertical-align: middle;\n",
       "    }\n",
       "\n",
       "    .dataframe tbody tr th {\n",
       "        vertical-align: top;\n",
       "    }\n",
       "\n",
       "    .dataframe thead th {\n",
       "        text-align: right;\n",
       "    }\n",
       "</style>\n",
       "<table border=\"1\" class=\"dataframe\">\n",
       "  <thead>\n",
       "    <tr style=\"text-align: right;\">\n",
       "      <th></th>\n",
       "      <th>Close</th>\n",
       "      <th>returns</th>\n",
       "    </tr>\n",
       "    <tr>\n",
       "      <th>Date</th>\n",
       "      <th></th>\n",
       "      <th></th>\n",
       "    </tr>\n",
       "  </thead>\n",
       "  <tbody>\n",
       "    <tr>\n",
       "      <th>2020-05-27</th>\n",
       "      <td>3036.129883</td>\n",
       "      <td>0.014827</td>\n",
       "    </tr>\n",
       "    <tr>\n",
       "      <th>2020-05-28</th>\n",
       "      <td>3029.729980</td>\n",
       "      <td>-0.002108</td>\n",
       "    </tr>\n",
       "    <tr>\n",
       "      <th>2020-05-29</th>\n",
       "      <td>3044.310059</td>\n",
       "      <td>0.004812</td>\n",
       "    </tr>\n",
       "    <tr>\n",
       "      <th>2020-06-01</th>\n",
       "      <td>3055.729980</td>\n",
       "      <td>0.003751</td>\n",
       "    </tr>\n",
       "    <tr>\n",
       "      <th>2020-06-02</th>\n",
       "      <td>3080.820068</td>\n",
       "      <td>0.008211</td>\n",
       "    </tr>\n",
       "    <tr>\n",
       "      <th>...</th>\n",
       "      <td>...</td>\n",
       "      <td>...</td>\n",
       "    </tr>\n",
       "    <tr>\n",
       "      <th>2025-05-16</th>\n",
       "      <td>5958.379883</td>\n",
       "      <td>0.007005</td>\n",
       "    </tr>\n",
       "    <tr>\n",
       "      <th>2025-05-19</th>\n",
       "      <td>5963.600098</td>\n",
       "      <td>0.000876</td>\n",
       "    </tr>\n",
       "    <tr>\n",
       "      <th>2025-05-20</th>\n",
       "      <td>5940.459961</td>\n",
       "      <td>-0.003880</td>\n",
       "    </tr>\n",
       "    <tr>\n",
       "      <th>2025-05-21</th>\n",
       "      <td>5844.609863</td>\n",
       "      <td>-0.016135</td>\n",
       "    </tr>\n",
       "    <tr>\n",
       "      <th>2025-05-22</th>\n",
       "      <td>5842.009766</td>\n",
       "      <td>-0.000445</td>\n",
       "    </tr>\n",
       "  </tbody>\n",
       "</table>\n",
       "<p>1255 rows × 2 columns</p>\n",
       "</div>"
      ],
      "text/plain": [
       "                  Close   returns\n",
       "Date                             \n",
       "2020-05-27  3036.129883  0.014827\n",
       "2020-05-28  3029.729980 -0.002108\n",
       "2020-05-29  3044.310059  0.004812\n",
       "2020-06-01  3055.729980  0.003751\n",
       "2020-06-02  3080.820068  0.008211\n",
       "...                 ...       ...\n",
       "2025-05-16  5958.379883  0.007005\n",
       "2025-05-19  5963.600098  0.000876\n",
       "2025-05-20  5940.459961 -0.003880\n",
       "2025-05-21  5844.609863 -0.016135\n",
       "2025-05-22  5842.009766 -0.000445\n",
       "\n",
       "[1255 rows x 2 columns]"
      ]
     },
     "execution_count": 93,
     "metadata": {},
     "output_type": "execute_result"
    }
   ],
   "source": [
    "sp500 = yf.Ticker(\"^GSPC\")\n",
    "sp500_data = sp500.history(period=\"5y\")\n",
    "sp500_data = sp500_data[['Close']]\n",
    "sp500_data.index = sp500_data.index.tz_localize(None)\n",
    "sp500_data['returns'] = sp500_data['Close'].pct_change().dropna()\n",
    "sp500_data = sp500_data.iloc[1:]\n",
    "sp500_covar = np.cov(sp500_data['returns'], tip_data['returns'])[0][1]\n",
    "sp500_aqm = sp500_covar / market_var\n",
    "\n",
    "sp500_data"
   ]
  },
  {
   "cell_type": "code",
   "execution_count": 94,
   "metadata": {},
   "outputs": [
    {
     "name": "stdout",
     "output_type": "stream",
     "text": [
      "The aqm of the sp500 is 0.52\n"
     ]
    }
   ],
   "source": [
    "print(f'The aqm of the sp500 is {sp500_aqm:.2f}')"
   ]
  },
  {
   "cell_type": "markdown",
   "metadata": {},
   "source": [
    "### Below is the calculation for an example of a mid-cap equity defined by Investopedia as an equity with a market cap between $2 - $10 Billion"
   ]
  },
  {
   "cell_type": "markdown",
   "metadata": {},
   "source": [
    "Mid-Cap equity: Avis Budget Group Inc\n",
    "Ticker: CAR"
   ]
  },
  {
   "cell_type": "code",
   "execution_count": 95,
   "metadata": {},
   "outputs": [
    {
     "data": {
      "text/html": [
       "<div>\n",
       "<style scoped>\n",
       "    .dataframe tbody tr th:only-of-type {\n",
       "        vertical-align: middle;\n",
       "    }\n",
       "\n",
       "    .dataframe tbody tr th {\n",
       "        vertical-align: top;\n",
       "    }\n",
       "\n",
       "    .dataframe thead th {\n",
       "        text-align: right;\n",
       "    }\n",
       "</style>\n",
       "<table border=\"1\" class=\"dataframe\">\n",
       "  <thead>\n",
       "    <tr style=\"text-align: right;\">\n",
       "      <th></th>\n",
       "      <th>Close</th>\n",
       "      <th>returns</th>\n",
       "    </tr>\n",
       "    <tr>\n",
       "      <th>Date</th>\n",
       "      <th></th>\n",
       "      <th></th>\n",
       "    </tr>\n",
       "  </thead>\n",
       "  <tbody>\n",
       "    <tr>\n",
       "      <th>2020-05-27</th>\n",
       "      <td>20.873856</td>\n",
       "      <td>0.180548</td>\n",
       "    </tr>\n",
       "    <tr>\n",
       "      <th>2020-05-28</th>\n",
       "      <td>19.021149</td>\n",
       "      <td>-0.088757</td>\n",
       "    </tr>\n",
       "    <tr>\n",
       "      <th>2020-05-29</th>\n",
       "      <td>20.455811</td>\n",
       "      <td>0.075425</td>\n",
       "    </tr>\n",
       "    <tr>\n",
       "      <th>2020-06-01</th>\n",
       "      <td>23.258625</td>\n",
       "      <td>0.137018</td>\n",
       "    </tr>\n",
       "    <tr>\n",
       "      <th>2020-06-02</th>\n",
       "      <td>22.536545</td>\n",
       "      <td>-0.031046</td>\n",
       "    </tr>\n",
       "    <tr>\n",
       "      <th>...</th>\n",
       "      <td>...</td>\n",
       "      <td>...</td>\n",
       "    </tr>\n",
       "    <tr>\n",
       "      <th>2025-05-16</th>\n",
       "      <td>108.839996</td>\n",
       "      <td>0.029999</td>\n",
       "    </tr>\n",
       "    <tr>\n",
       "      <th>2025-05-19</th>\n",
       "      <td>112.720001</td>\n",
       "      <td>0.035649</td>\n",
       "    </tr>\n",
       "    <tr>\n",
       "      <th>2025-05-20</th>\n",
       "      <td>112.000000</td>\n",
       "      <td>-0.006388</td>\n",
       "    </tr>\n",
       "    <tr>\n",
       "      <th>2025-05-21</th>\n",
       "      <td>108.970001</td>\n",
       "      <td>-0.027054</td>\n",
       "    </tr>\n",
       "    <tr>\n",
       "      <th>2025-05-22</th>\n",
       "      <td>117.750000</td>\n",
       "      <td>0.080573</td>\n",
       "    </tr>\n",
       "  </tbody>\n",
       "</table>\n",
       "<p>1255 rows × 2 columns</p>\n",
       "</div>"
      ],
      "text/plain": [
       "                 Close   returns\n",
       "Date                            \n",
       "2020-05-27   20.873856  0.180548\n",
       "2020-05-28   19.021149 -0.088757\n",
       "2020-05-29   20.455811  0.075425\n",
       "2020-06-01   23.258625  0.137018\n",
       "2020-06-02   22.536545 -0.031046\n",
       "...                ...       ...\n",
       "2025-05-16  108.839996  0.029999\n",
       "2025-05-19  112.720001  0.035649\n",
       "2025-05-20  112.000000 -0.006388\n",
       "2025-05-21  108.970001 -0.027054\n",
       "2025-05-22  117.750000  0.080573\n",
       "\n",
       "[1255 rows x 2 columns]"
      ]
     },
     "execution_count": 95,
     "metadata": {},
     "output_type": "execute_result"
    }
   ],
   "source": [
    "car = yf.Ticker(\"CAR\")\n",
    "car_data = car.history(period=\"5y\")\n",
    "car_data = car_data[['Close']]\n",
    "car_data.index = car_data.index.tz_localize(None)\n",
    "car_data['returns'] = car_data['Close'].pct_change().dropna()\n",
    "car_data = car_data.iloc[1:]\n",
    "car_covar = np.cov(car_data['returns'], tip_data['returns'])[0][1]\n",
    "car_aqm = car_covar / market_var\n",
    "\n",
    "car_data"
   ]
  },
  {
   "cell_type": "code",
   "execution_count": 96,
   "metadata": {},
   "outputs": [
    {
     "name": "stdout",
     "output_type": "stream",
     "text": [
      "The aqm of Avis Inc is 0.89\n"
     ]
    }
   ],
   "source": [
    "print(f'The aqm of Avis Inc is {car_aqm:.2f}')"
   ]
  },
  {
   "cell_type": "markdown",
   "metadata": {},
   "source": [
    "### Below is the calculation for an example of a low-cap equity defined by Investopedia as an equity with a market cap between $250million - $2 Billion"
   ]
  },
  {
   "cell_type": "markdown",
   "metadata": {},
   "source": [
    "Mid-Cap equity: Defi Development Corp\n",
    "Ticker: DFDV"
   ]
  },
  {
   "cell_type": "code",
   "execution_count": 97,
   "metadata": {},
   "outputs": [
    {
     "data": {
      "text/html": [
       "<div>\n",
       "<style scoped>\n",
       "    .dataframe tbody tr th:only-of-type {\n",
       "        vertical-align: middle;\n",
       "    }\n",
       "\n",
       "    .dataframe tbody tr th {\n",
       "        vertical-align: top;\n",
       "    }\n",
       "\n",
       "    .dataframe thead th {\n",
       "        text-align: right;\n",
       "    }\n",
       "</style>\n",
       "<table border=\"1\" class=\"dataframe\">\n",
       "  <thead>\n",
       "    <tr style=\"text-align: right;\">\n",
       "      <th></th>\n",
       "      <th>Close</th>\n",
       "      <th>returns</th>\n",
       "    </tr>\n",
       "    <tr>\n",
       "      <th>Date</th>\n",
       "      <th></th>\n",
       "      <th></th>\n",
       "    </tr>\n",
       "  </thead>\n",
       "  <tbody>\n",
       "    <tr>\n",
       "      <th>2024-05-28</th>\n",
       "      <td>1.200000</td>\n",
       "      <td>-0.036697</td>\n",
       "    </tr>\n",
       "    <tr>\n",
       "      <th>2024-05-29</th>\n",
       "      <td>1.165714</td>\n",
       "      <td>-0.028572</td>\n",
       "    </tr>\n",
       "    <tr>\n",
       "      <th>2024-05-30</th>\n",
       "      <td>1.131429</td>\n",
       "      <td>-0.029411</td>\n",
       "    </tr>\n",
       "    <tr>\n",
       "      <th>2024-05-31</th>\n",
       "      <td>1.120000</td>\n",
       "      <td>-0.010101</td>\n",
       "    </tr>\n",
       "    <tr>\n",
       "      <th>2024-06-03</th>\n",
       "      <td>1.131429</td>\n",
       "      <td>0.010204</td>\n",
       "    </tr>\n",
       "    <tr>\n",
       "      <th>...</th>\n",
       "      <td>...</td>\n",
       "      <td>...</td>\n",
       "    </tr>\n",
       "    <tr>\n",
       "      <th>2025-05-16</th>\n",
       "      <td>22.427143</td>\n",
       "      <td>0.744527</td>\n",
       "    </tr>\n",
       "    <tr>\n",
       "      <th>2025-05-19</th>\n",
       "      <td>18.114286</td>\n",
       "      <td>-0.192305</td>\n",
       "    </tr>\n",
       "    <tr>\n",
       "      <th>2025-05-20</th>\n",
       "      <td>25.485714</td>\n",
       "      <td>0.406940</td>\n",
       "    </tr>\n",
       "    <tr>\n",
       "      <th>2025-05-21</th>\n",
       "      <td>35.529999</td>\n",
       "      <td>0.394114</td>\n",
       "    </tr>\n",
       "    <tr>\n",
       "      <th>2025-05-22</th>\n",
       "      <td>42.500000</td>\n",
       "      <td>0.196172</td>\n",
       "    </tr>\n",
       "  </tbody>\n",
       "</table>\n",
       "<p>248 rows × 2 columns</p>\n",
       "</div>"
      ],
      "text/plain": [
       "                Close   returns\n",
       "Date                           \n",
       "2024-05-28   1.200000 -0.036697\n",
       "2024-05-29   1.165714 -0.028572\n",
       "2024-05-30   1.131429 -0.029411\n",
       "2024-05-31   1.120000 -0.010101\n",
       "2024-06-03   1.131429  0.010204\n",
       "...               ...       ...\n",
       "2025-05-16  22.427143  0.744527\n",
       "2025-05-19  18.114286 -0.192305\n",
       "2025-05-20  25.485714  0.406940\n",
       "2025-05-21  35.529999  0.394114\n",
       "2025-05-22  42.500000  0.196172\n",
       "\n",
       "[248 rows x 2 columns]"
      ]
     },
     "execution_count": 97,
     "metadata": {},
     "output_type": "execute_result"
    }
   ],
   "source": [
    "DFDV = yf.Ticker(\"DFDV\")\n",
    "DFDV_data = DFDV.history(period=\"1y\")\n",
    "DFDV_data = DFDV_data[['Close']]\n",
    "DFDV_data.index = DFDV_data.index.tz_localize(None)\n",
    "DFDV_data['returns'] = DFDV_data['Close'].pct_change()\n",
    "DFDV_data = DFDV_data.dropna()\n",
    "DFDV_data = DFDV_data.iloc[1:]\n",
    "tip_data_DFDV = tip_data.loc[DFDV_data.index]\n",
    "market_var_1 = np.var(tip_data_DFDV['returns'])\n",
    "DFDV_covar = np.cov(DFDV_data['returns'], tip_data_DFDV['returns'])[0][1]\n",
    "DFDV_aqm = DFDV_covar / market_var_1\n",
    "\n",
    "DFDV_data"
   ]
  },
  {
   "cell_type": "code",
   "execution_count": 98,
   "metadata": {},
   "outputs": [
    {
     "name": "stdout",
     "output_type": "stream",
     "text": [
      "The aqm of Defi Development Corp is -48.81\n"
     ]
    }
   ],
   "source": [
    "print(f'The aqm of Defi Development Corp is {DFDV_aqm:.2f}')"
   ]
  },
  {
   "cell_type": "markdown",
   "metadata": {},
   "source": [
    "### Below is the calculation for an example of a blue-chip cryptocurrency: Ethereum"
   ]
  },
  {
   "cell_type": "code",
   "execution_count": 106,
   "metadata": {},
   "outputs": [],
   "source": [
    "eth = yf.Ticker(\"ETH-USD\")\n",
    "eth_data = eth.history(period=\"1y\")[['Close']]\n",
    "eth_data.index = eth_data.index.tz_localize(None)\n",
    "eth_data['returns'] = eth_data['Close'].pct_change()\n",
    "eth_data = eth_data.dropna()\n",
    "\n",
    "common_dates = eth_data.index.intersection(tip_data.index)\n",
    "eth_data_aligned = eth_data.loc[common_dates]\n",
    "tip_data_aligned = tip_data.loc[common_dates]\n",
    "\n",
    "tip_var = np.var(tip_data_aligned['returns'])\n",
    "eth_tip_covar = np.cov(eth_data_aligned['returns'], tip_data_aligned['returns'])[0][1]\n",
    "\n",
    "eth_aqm = eth_tip_covar / tip_var\n",
    "\n"
   ]
  },
  {
   "cell_type": "code",
   "execution_count": 107,
   "metadata": {},
   "outputs": [
    {
     "name": "stdout",
     "output_type": "stream",
     "text": [
      "The aqm of ETH is 0.85\n"
     ]
    }
   ],
   "source": [
    "print(f'The aqm of ETH is {eth_aqm:.2f}')"
   ]
  },
  {
   "cell_type": "markdown",
   "metadata": {},
   "source": [
    "### Below is the calculation for an example of a mid-cap cryptocurrency: Avalanche"
   ]
  },
  {
   "cell_type": "code",
   "execution_count": 108,
   "metadata": {},
   "outputs": [],
   "source": [
    "AVAX = yf.Ticker(\"AVAX-USD\")\n",
    "AVAX_data = AVAX.history(period=\"1y\")[['Close']]\n",
    "AVAX_data.index = AVAX_data.index.tz_localize(None)\n",
    "AVAX_data['returns'] = AVAX_data['Close'].pct_change()\n",
    "AVAX_data = AVAX_data.dropna()\n",
    "\n",
    "common_dates = AVAX_data.index.intersection(tip_data.index)\n",
    "AVAX_data_aligned = AVAX_data.loc[common_dates]\n",
    "tip_data_aligned = tip_data.loc[common_dates]\n",
    "\n",
    "tip_var = np.var(tip_data_aligned['returns'])\n",
    "AVAX_tip_covar = np.cov(AVAX_data_aligned['returns'], tip_data_aligned['returns'])[0][1]\n",
    "\n",
    "AVAX_aqm = AVAX_tip_covar / tip_var\n"
   ]
  },
  {
   "cell_type": "code",
   "execution_count": 109,
   "metadata": {},
   "outputs": [
    {
     "name": "stdout",
     "output_type": "stream",
     "text": [
      "The aqm of AVAX is -0.13\n"
     ]
    }
   ],
   "source": [
    "print(f'The aqm of AVAX is {AVAX_aqm:.2f}')"
   ]
  },
  {
   "cell_type": "markdown",
   "metadata": {},
   "source": [
    "### Below is the calculation for an example of a blue-chip memecoin: Dogecoin"
   ]
  },
  {
   "cell_type": "code",
   "execution_count": 110,
   "metadata": {},
   "outputs": [],
   "source": [
    "doge = yf.Ticker(\"DOGE-USD\")\n",
    "doge_data = doge.history(period=\"1y\")[['Close']]\n",
    "doge_data.index = doge_data.index.tz_localize(None)\n",
    "doge_data['returns'] = doge_data['Close'].pct_change()\n",
    "doge_data = doge_data.dropna()\n",
    "\n",
    "common_dates = doge_data.index.intersection(tip_data.index)\n",
    "doge_data_aligned = doge_data.loc[common_dates]\n",
    "tip_data_aligned = tip_data.loc[common_dates]\n",
    "\n",
    "tip_var = np.var(tip_data_aligned['returns'])\n",
    "doge_tip_covar = np.cov(doge_data_aligned['returns'], tip_data_aligned['returns'])[0][1]\n",
    "\n",
    "doge_aqm = doge_tip_covar / tip_var"
   ]
  },
  {
   "cell_type": "code",
   "execution_count": 111,
   "metadata": {},
   "outputs": [
    {
     "name": "stdout",
     "output_type": "stream",
     "text": [
      "The aqm of doge is -0.77\n"
     ]
    }
   ],
   "source": [
    "print(f'The aqm of doge is {doge_aqm:.2f}')"
   ]
  }
 ],
 "metadata": {
  "kernelspec": {
   "display_name": ".venv",
   "language": "python",
   "name": "python3"
  },
  "language_info": {
   "codemirror_mode": {
    "name": "ipython",
    "version": 3
   },
   "file_extension": ".py",
   "mimetype": "text/x-python",
   "name": "python",
   "nbconvert_exporter": "python",
   "pygments_lexer": "ipython3",
   "version": "3.11.5"
  }
 },
 "nbformat": 4,
 "nbformat_minor": 2
}
